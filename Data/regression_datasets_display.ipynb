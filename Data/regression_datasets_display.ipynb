{
 "cells": [
  {
   "cell_type": "markdown",
   "id": "11b4e369",
   "metadata": {},
   "source": [
    "# ModularyNN Dataset Examples for regressions\n",
    "\n",
    "This notebook demonstrates the various dataset classes available in the ModularyNN framework."
   ]
  },
  {
   "cell_type": "code",
   "execution_count": null,
   "id": "9c9a8c2a",
   "metadata": {},
   "outputs": [],
   "source": [
    "import sys\n",
    "import os\n",
    "import numpy as np\n",
    "import matplotlib.pyplot as plt\n",
    "from pathlib import Path\n",
    "\n",
    "# Add parent directory to path to import local modules\n",
    "sys.path.append(os.path.abspath(os.path.join(os.getcwd(), os.pardir)))\n",
    "\n",
    "# Import dataset classes\n",
    "from Data.DatasetClasses import (\n",
    "    WaitPark\n",
    ")"
   ]
  },
  {
   "cell_type": "code",
   "execution_count": null,
   "id": "db4cf0e4",
   "metadata": {},
   "outputs": [],
   "source": [
    "# Tester le dataset avec les données météo\n",
    "print(\"Testing WaitPark dataset with weather data:\")\n",
    "dataset = WaitPark(batch_size=32, include_weather=True)\n",
    "\n",
    "# Afficher des informations sur le dataset\n",
    "dataset.print_dataset_info(name=\"WaitPark\")"
   ]
  },
  {
   "cell_type": "code",
   "execution_count": null,
   "id": "9badca63",
   "metadata": {},
   "outputs": [],
   "source": [
    "# Tester la récupération d'un batch\n",
    "inputs, labels = dataset.next()\n",
    "print(f\"Batch shape - Inputs: {inputs.shape}, Labels: {labels.shape}\")\n",
    "\n",
    "# Tester la division des données\n",
    "train_data, train_labels = dataset.get_train_set()\n",
    "val_data, val_labels = dataset.get_validation_set()\n",
    "test_data, test_labels = dataset.get_test_set()\n",
    "\n",
    "print(f\"Train set: {train_data.shape} inputs, {train_labels.shape} labels\")\n",
    "print(f\"Validation set: {val_data.shape} inputs, {val_labels.shape} labels\")\n",
    "print(f\"Test set: {test_data.shape} inputs, {test_labels.shape} labels\")"
   ]
  },
  {
   "cell_type": "code",
   "execution_count": null,
   "id": "b6be4744",
   "metadata": {},
   "outputs": [],
   "source": [
    "# Afficher quelques échantillons aléatoires\n",
    "for i in range(3):\n",
    "    dataset.plot_random_training_sample()"
   ]
  },
  {
   "cell_type": "code",
   "execution_count": null,
   "id": "561937e9",
   "metadata": {},
   "outputs": [],
   "source": [
    "# Tester le dataset sans les données météo\n",
    "print(\"\\nTesting WaitPark dataset without weather data:\")\n",
    "dataset_no_weather = WaitPark(batch_size=32, include_weather=False)\n",
    "inputs, labels = dataset_no_weather.next()\n",
    "print(f\"Batch shape (no weather) - Inputs: {inputs.shape}, Labels: {labels.shape}\")"
   ]
  },
  {
   "cell_type": "code",
   "execution_count": null,
   "id": "58e70c2d",
   "metadata": {},
   "outputs": [],
   "source": [
    "# Visualiser la distribution des temps d'attente\n",
    "plt.figure(figsize=(10, 6))\n",
    "plt.hist(train_labels.flatten(), bins=30, alpha=0.7)\n",
    "plt.title('Distribution des temps d\\'attente dans 2 heures')\n",
    "plt.xlabel('Temps d\\'attente (minutes)')\n",
    "plt.ylabel('Fréquence')\n",
    "plt.grid(True, alpha=0.3)\n",
    "plt.show()"
   ]
  }
 ],
 "metadata": {
  "kernelspec": {
   "display_name": "dlvenv",
   "language": "python",
   "name": "python3"
  },
  "language_info": {
   "codemirror_mode": {
    "name": "ipython",
    "version": 3
   },
   "file_extension": ".py",
   "mimetype": "text/x-python",
   "name": "python",
   "nbconvert_exporter": "python",
   "pygments_lexer": "ipython3",
   "version": "3.13.3"
  }
 },
 "nbformat": 4,
 "nbformat_minor": 5
}
